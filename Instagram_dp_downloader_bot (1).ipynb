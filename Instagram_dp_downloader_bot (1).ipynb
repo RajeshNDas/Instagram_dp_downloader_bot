{
 "cells": [
  {
   "cell_type": "code",
   "execution_count": null,
   "metadata": {},
   "outputs": [],
   "source": [
    "from selenium import webdriver\n",
    "import time\n",
    "import urllib.request\n",
    "from selenium.webdriver.common.keys import Keys"
   ]
  },
  {
   "cell_type": "code",
   "execution_count": null,
   "metadata": {},
   "outputs": [],
   "source": [
    "user_id=input('Enter User Id of your Fb Account :')  # Take user id and password as input from the user\n",
    "password=input('Enter the password :')"
   ]
  },
  {
   "cell_type": "code",
   "execution_count": null,
   "metadata": {},
   "outputs": [],
   "source": [
    "print(user_id)\n",
    "print(password)\n"
   ]
  },
  {
   "cell_type": "code",
   "execution_count": null,
   "metadata": {},
   "outputs": [],
   "source": [
    "chrome_browser= webdriver.Chrome(executable_path=r'C:\\\\Users\\\\IamRaj\\\\chromedriver_win32\\\\chromedriver.exe')\n",
    "chrome_browser.get('https://www.instagram.com/accounts/login/')"
   ]
  },
  {
   "cell_type": "code",
   "execution_count": null,
   "metadata": {},
   "outputs": [],
   "source": [
    "time.sleep(10)"
   ]
  },
  {
   "cell_type": "code",
   "execution_count": null,
   "metadata": {},
   "outputs": [],
   "source": [
    "user_box = chrome_browser.find_element_by_xpath('//*[@id=\"loginForm\"]/div/div[1]/div/label/input')\n",
    "user_box.send_keys(user_id)                                               "
   ]
  },
  {
   "cell_type": "code",
   "execution_count": null,
   "metadata": {},
   "outputs": [],
   "source": [
    "password_box = chrome_browser.find_element_by_xpath('//*[@id=\"loginForm\"]/div/div[2]/div/label/input')    \n",
    "password_box.send_keys(password)                                          "
   ]
  },
  {
   "cell_type": "code",
   "execution_count": null,
   "metadata": {},
   "outputs": [],
   "source": [
    "password_box.send_keys(Keys.ENTER)"
   ]
  },
  {
   "cell_type": "code",
   "execution_count": null,
   "metadata": {},
   "outputs": [],
   "source": [
    "print(\"Login Successful\")"
   ]
  },
  {
   "cell_type": "code",
   "execution_count": null,
   "metadata": {},
   "outputs": [],
   "source": [
    "url1= 'https://www.instagram.com/'\n",
    "user_handle=\"iridhidogra\"\n",
    "url=url1+user_handle"
   ]
  },
  {
   "cell_type": "code",
   "execution_count": null,
   "metadata": {},
   "outputs": [],
   "source": [
    "try:\n",
    "    chrome_browser.get(url)\n",
    "    time.sleep(20)\n",
    "    \n",
    "    fileName=user_handle+'.jpg'\n",
    "    try:\n",
    "        image=chrome_browser.find_element_by_xpath('//*[@id=\"react-root\"]/section/main/div/header/div/div/span/img')\n",
    "    except:\n",
    "        image=chrome_browser.find_element_by_xpath('//*[@id=\"react-root\"]/section/main/div/header/div/div/div/button/img')\n",
    "    imageSrc=image.get_attribute('src')\n",
    "    urllib.request.urlretrieve(imageSrc,fileName)\n",
    "    \n",
    "    print('Image Downloaded')\n",
    "\n",
    "except:\n",
    "    print('Invalid Instagram Handle')\n",
    "    "
   ]
  },
  {
   "cell_type": "code",
   "execution_count": null,
   "metadata": {},
   "outputs": [],
   "source": []
  },
  {
   "cell_type": "code",
   "execution_count": null,
   "metadata": {},
   "outputs": [],
   "source": []
  },
  {
   "cell_type": "code",
   "execution_count": null,
   "metadata": {},
   "outputs": [],
   "source": []
  }
 ],
 "metadata": {
  "kernelspec": {
   "display_name": "Python 3",
   "language": "python",
   "name": "python3"
  },
  "language_info": {
   "codemirror_mode": {
    "name": "ipython",
    "version": 3
   },
   "file_extension": ".py",
   "mimetype": "text/x-python",
   "name": "python",
   "nbconvert_exporter": "python",
   "pygments_lexer": "ipython3",
   "version": "3.8.5"
  }
 },
 "nbformat": 4,
 "nbformat_minor": 4
}
