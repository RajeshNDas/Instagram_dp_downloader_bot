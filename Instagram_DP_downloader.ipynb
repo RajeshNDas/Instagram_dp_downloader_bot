{
 "cells": [
  {
   "cell_type": "code",
   "execution_count": null,
   "metadata": {},
   "outputs": [],
   "source": [
    "from selenium import webdriver\n",
    "import time\n",
    "import urllib.request\n"
   ]
  },
  {
   "cell_type": "code",
   "execution_count": null,
   "metadata": {},
   "outputs": [],
   "source": [
    "chrome_browser= webdriver.Chrome(executable_path=r'C:\\Users\\IamRaj\\chromedriver_win32\\\\chromedriver.exe')\n",
    "url1='https://www.instagram.com/'\n",
    "#user_handle=input('Enter the user handle : ')\n",
    "user_handle=\"marvelstudios\" # Mention the user handle also\n",
    "url=url1+user_handle\n",
    "print(url)"
   ]
  },
  {
   "cell_type": "code",
   "execution_count": null,
   "metadata": {},
   "outputs": [],
   "source": [
    "try:\n",
    "    chrome_browser.get(url)\n",
    "    time.sleep(10)\n",
    "    fileName = user_handle + '.jpg'\n",
    "    try:\n",
    "        #For public accounts\n",
    "        image=chrome_browser.find_element_by_xpath('//*[@id=\"react-root\"]/section/main/div/header/div/div/span/img')\n",
    "    except:\n",
    "        #For private accounts\n",
    "        image=chrome_browser.find_element_by_xpath('//*[@id=\"react-root\"]/section/main/div/header/div/div/div/button/img')\n",
    "    imageSrc=image.get_attribute('src')\n",
    "    urllib.request.urlretrieve(imageSrc,fileName)\n",
    "    \n",
    "    print(\"Image downloaded successfully\")\n",
    "except: #Incase the user handle is incorrect it will show this message\n",
    "    print(\"Sorry this intagram handle doesn't exist\")\n",
    "    \n",
    "chrome_browser.quit()"
   ]
  },
  {
   "cell_type": "code",
   "execution_count": null,
   "metadata": {},
   "outputs": [],
   "source": []
  }
 ],
 "metadata": {
  "kernelspec": {
   "display_name": "Python 3",
   "language": "python",
   "name": "python3"
  },
  "language_info": {
   "codemirror_mode": {
    "name": "ipython",
    "version": 3
   },
   "file_extension": ".py",
   "mimetype": "text/x-python",
   "name": "python",
   "nbconvert_exporter": "python",
   "pygments_lexer": "ipython3",
   "version": "3.8.5"
  }
 },
 "nbformat": 4,
 "nbformat_minor": 4
}
